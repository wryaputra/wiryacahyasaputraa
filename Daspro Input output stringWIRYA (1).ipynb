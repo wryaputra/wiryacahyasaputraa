{
 "cells": [
  {
   "cell_type": "markdown",
   "id": "d9c85cdb-5583-41a4-80f4-cc3693974f55",
   "metadata": {},
   "source": [
    "<h1> Contoh Input dan Output</h1>"
   ]
  },
  {
   "cell_type": "code",
   "execution_count": 3,
   "id": "4f403b57-1d82-4bf9-9d49-26c5cbb6c530",
   "metadata": {},
   "outputs": [
    {
     "name": "stdin",
     "output_type": "stream",
     "text": [
      "masukan nama anda: Albar Mughni Prasojo\n"
     ]
    },
    {
     "name": "stdout",
     "output_type": "stream",
     "text": [
      "nama anda adalah Albar Mughni Prasojo\n"
     ]
    }
   ],
   "source": [
    "\n",
    "\n",
    "nama= input(\"masukan nama anda:\")\n",
    "print (\"nama anda adalah\",nama)"
   ]
  },
  {
   "cell_type": "code",
   "execution_count": 31,
   "id": "f344504e-ca46-45f5-9c2a-3c4ab318bf0e",
   "metadata": {},
   "outputs": [
    {
     "name": "stdout",
     "output_type": "stream",
     "text": [
      "6\n"
     ]
    }
   ],
   "source": [
    "teks= \"Daspro\"\n",
    "print(len(teks))"
   ]
  },
  {
   "cell_type": "code",
   "execution_count": 32,
   "id": "befc57ec-ed47-452d-b822-4d54363e915e",
   "metadata": {},
   "outputs": [
    {
     "name": "stdout",
     "output_type": "stream",
     "text": [
      "DASPRO\n"
     ]
    }
   ],
   "source": [
    "teks= \"Daspro\"\n",
    "print(teks.upper())"
   ]
  },
  {
   "cell_type": "code",
   "execution_count": 33,
   "id": "3c8eb101-08ae-4c36-a200-8fb9dc83d29e",
   "metadata": {},
   "outputs": [
    {
     "name": "stdout",
     "output_type": "stream",
     "text": [
      "daspro\n"
     ]
    }
   ],
   "source": [
    "teks= \"Daspro\"\n",
    "print(teks.lower())"
   ]
  },
  {
   "cell_type": "code",
   "execution_count": null,
   "id": "a2ed44af-f1e0-4d92-bc55-fecb21ad00c0",
   "metadata": {},
   "outputs": [],
   "source": [
    "teks= \"    Daspro    \"\n",
    "print(teks.strip())"
   ]
  },
  {
   "cell_type": "code",
   "execution_count": 35,
   "id": "ae7bc8d2-6271-4f57-883c-3355c212b4ad",
   "metadata": {},
   "outputs": [
    {
     "name": "stdout",
     "output_type": "stream",
     "text": [
      "Dasar pemrograman\n"
     ]
    }
   ],
   "source": [
    "teks= \"Daspro\"\n",
    "print(teks.replace(teks,\"Dasar pemrograman\"))"
   ]
  },
  {
   "cell_type": "code",
   "execution_count": 36,
   "id": "5d41a8f9-5d2f-4655-b285-6cc00febb278",
   "metadata": {},
   "outputs": [
    {
     "name": "stdout",
     "output_type": "stream",
     "text": [
      "['Daspro']\n"
     ]
    }
   ],
   "source": [
    "teks= \"Daspro\"\n",
    "print(teks.split())"
   ]
  },
  {
   "cell_type": "code",
   "execution_count": 38,
   "id": "3bb422aa-50af-4071-bf32-1fea1445a159",
   "metadata": {},
   "outputs": [
    {
     "name": "stdout",
     "output_type": "stream",
     "text": [
      "1\n"
     ]
    }
   ],
   "source": [
    "teks= \"Daspro\"\n",
    "print(teks.count(teks))"
   ]
  },
  {
   "cell_type": "code",
   "execution_count": 40,
   "id": "7b0af0cb-bac8-411f-a84b-d720dad3e14b",
   "metadata": {},
   "outputs": [
    {
     "name": "stdout",
     "output_type": "stream",
     "text": [
      "6\n"
     ]
    }
   ],
   "source": [
    "teks= \"Daspro\"\n",
    "print(len(teks))"
   ]
  }
 ],
 "metadata": {
  "kernelspec": {
   "display_name": "Python 3 (ipykernel)",
   "language": "python",
   "name": "python3"
  },
  "language_info": {
   "codemirror_mode": {
    "name": "ipython",
    "version": 3
   },
   "file_extension": ".py",
   "mimetype": "text/x-python",
   "name": "python",
   "nbconvert_exporter": "python",
   "pygments_lexer": "ipython3",
   "version": "3.12.7"
  }
 },
 "nbformat": 4,
 "nbformat_minor": 5
}
