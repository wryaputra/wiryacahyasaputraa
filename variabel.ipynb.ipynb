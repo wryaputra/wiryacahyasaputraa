{
 "cells": [
  {
   "cell_type": "code",
   "execution_count": 68,
   "id": "69639d0a-0599-4d7e-a2ce-c76499b79af2",
   "metadata": {},
   "outputs": [
    {
     "name": "stdout",
     "output_type": "stream",
     "text": [
      "Nama : Wirya\n",
      "Umur : 19\n",
      "Alamat : Cibadak\n",
      "Provinsi : 7413412\n",
      "Nilai Pemrograman : (90, 5)\n",
      "Status Menikah : True\n"
     ]
    }
   ],
   "source": [
    "name = \"Wirya\"\n",
    "age = 19\n",
    "address,province = \"Cibadak\",\"7413412\"\n",
    "pythonScore = 90,5\n",
    "isMarried = True\n",
    "\n",
    "print(\"Nama :\",name)\n",
    "print(\"Umur :\",age)\n",
    "print(\"Alamat :\", address)\n",
    "print(\"Provinsi :\",province)\n",
    "print(\"Nilai Pemrograman :\",pythonScore)\n",
    "print(\"Status Menikah :\",isMarried)\n",
    "\n",
    "\n"
   ]
  },
  {
   "cell_type": "code",
   "execution_count": 38,
   "id": "e0049d16-1ff3-47ac-bb05-44af98b9e4a5",
   "metadata": {},
   "outputs": [
    {
     "name": "stdout",
     "output_type": "stream",
     "text": [
      "Tipe Data (nama) : <class 'str'>\n",
      "Tipe Data (age) : <class 'int'>\n",
      "Tipe Data (address) : <class 'str'>\n",
      "Tipe Data (province) : <class 'str'>\n",
      "Tipe Data (scorePython) : <class 'tuple'>\n",
      "Tipe Data (isMarried) : <class 'bool'>\n"
     ]
    }
   ],
   "source": [
    "print(\"Tipe Data (nama) :\",type(name))\n",
    "print(\"Tipe Data (age) :\",type(age))\n",
    "print(\"Tipe Data (address) :\",type(address))\n",
    "print(\"Tipe Data (province) :\",type(province))\n",
    "print(\"Tipe Data (scorePython) :\",type(pythonScore))\n",
    "print(\"Tipe Data (isMarried) :\",type(isMarried))\n"
   ]
  },
  {
   "cell_type": "code",
   "execution_count": 94,
   "id": "85329aeb-7424-4ec6-9586-387402498545",
   "metadata": {},
   "outputs": [
    {
     "name": "stdout",
     "output_type": "stream",
     "text": [
      "7413414 7413412.0 True\n"
     ]
    },
    {
     "ename": "NameError",
     "evalue": "name 'intTofloat' is not defined",
     "output_type": "error",
     "traceback": [
      "\u001b[0;31m---------------------------------------------------------------------------\u001b[0m",
      "\u001b[0;31mNameError\u001b[0m                                 Traceback (most recent call last)",
      "Cell \u001b[0;32mIn[94], line 9\u001b[0m\n\u001b[1;32m      7\u001b[0m intToFloat \u001b[38;5;241m=\u001b[39m \u001b[38;5;28mfloat\u001b[39m(age)\n\u001b[1;32m      8\u001b[0m intToBool \u001b[38;5;241m=\u001b[39m \u001b[38;5;28mbool\u001b[39m(age)\n\u001b[0;32m----> 9\u001b[0m \u001b[38;5;28mprint\u001b[39m(intToStr,intTofloat,intToBool)\n\u001b[1;32m     11\u001b[0m floatTostr \u001b[38;5;241m=\u001b[39m \u001b[38;5;28mstr\u001b[39m(pythonScore)\n\u001b[1;32m     12\u001b[0m floatToint \u001b[38;5;241m=\u001b[39m \u001b[38;5;28mint\u001b[39m(pythonScore)\n",
      "\u001b[0;31mNameError\u001b[0m: name 'intTofloat' is not defined"
     ]
    }
   ],
   "source": [
    "strToInt = int(province)\n",
    "strToFloat = float(province)\n",
    "strToBool = bool(province)\n",
    "print(strToInt+2,strToFloat,strToBool)\n",
    "\n",
    "intToStr = str(age)\n",
    "intToFloat = float(age)\n",
    "intToBool = bool(age)\n",
    "print(intToStr,intTofloat,intToBool)\n",
    "\n",
    "floatTostr = str(pythonScore)\n",
    "floatToint = int(pythonScore)\n",
    "floatTobool = bool(pythonScore)\n",
    "print (floatTostr,floatToint,floatTobool)\n",
    "\n",
    "boolTostr = str(isMarried)\n",
    "boolToint = int(isMarried)\n",
    "boolTofloat = float(isMarried)\n",
    "print(boolTostr,boolToint,boolTofloat)\n",
    "\n",
    "tupleTostr = str(isMarried)\n",
    "tupleToint = int(isMarried)\n",
    "tupleTobool = bool(isMarried)\n",
    "print(tupleTostr,tupleToint,tupleTobool)\n",
    "\n"
   ]
  },
  {
   "cell_type": "code",
   "execution_count": 58,
   "id": "19b19850-4772-4100-9b2f-2a8d03d4a6d0",
   "metadata": {},
   "outputs": [
    {
     "name": "stdout",
     "output_type": "stream",
     "text": [
      "S\n",
      "i\n"
     ]
    }
   ],
   "source": [
    "city = \"Sukabumi\"\n",
    "panjang = len(city)\n",
    "print(city[0])\n",
    "print(city[panjang-1])"
   ]
  },
  {
   "cell_type": "code",
   "execution_count": 66,
   "id": "a4f9e8e2-3a99-4e52-8c86-e711e599f65f",
   "metadata": {},
   "outputs": [
    {
     "name": "stdout",
     "output_type": "stream",
     "text": [
      "Nilai desimal: 500\n",
      "Nilai biner: 15\n",
      "Nilai octal: 255\n",
      "Nilai hexa: 255\n",
      "biner dari  500 : 0b111110100\n",
      "octal dari  500 : 0o764\n",
      "hexadesimal dari  500 : 0x1f4\n"
     ]
    }
   ],
   "source": [
    "desimal = 500\n",
    "biner = 0b1111\n",
    "octal = 0o377\n",
    "hexa = 0xff\n",
    "\n",
    "print(\"Nilai desimal:\",desimal)\n",
    "print(\"Nilai biner:\",biner)\n",
    "print(\"Nilai octal:\",octal)\n",
    "print(\"Nilai hexa:\",hexa)\n",
    "\n",
    "print(\"biner dari \",desimal,\":\",bin(desimal))\n",
    "print(\"octal dari \",desimal,\":\",oct(desimal))\n",
    "print(\"hexadesimal dari \",desimal,\":\",hex(desimal))"
   ]
  },
  {
   "cell_type": "code",
   "execution_count": 88,
   "id": "bbf5097b-147d-450b-acdc-f4b0d4016060",
   "metadata": {},
   "outputs": [
    {
     "name": "stdout",
     "output_type": "stream",
     "text": [
      "['Sukabumi', 'Malang', 'Bandung', 'Surabaya']\n",
      "Sukabumi\n",
      "Surabaya\n",
      "['Sukabumi', 'jakarta', 'Bandung', 'Surabaya']\n",
      "('Basket', 'Sholat', 'foot Ball')\n",
      "Basket\n",
      "{'name': 'Wirya', 'age': 19, 'address': {'street': 'Cibadak', 'number': 80, 'province': 'Kab,sukabumi'}}\n",
      "Wirya\n",
      "Kab,sukabumi\n"
     ]
    }
   ],
   "source": [
    "cities = [\"Sukabumi\",\"Malang\",\"Bandung\",\"Surabaya\"]\n",
    "print(cities)\n",
    "print(cities[0])\n",
    "print(cities[len(cities)-1 ])\n",
    "cities[1] =\"jakarta\"\n",
    "print(cities)\n",
    "\n",
    "hobbies = (\"Basket\",\"Sholat\",\"foot Ball\")\n",
    "print(hobbies)\n",
    "print(hobbies[0])\n",
    "#hobbies[0] = \"watching Netflix\" eror program\n",
    "studentData = {\n",
    "    \"name\" : \"Wirya\",\n",
    "    \"age\" : 19,\n",
    "    \"address\" : {\n",
    "        \"street\" : \"Cibadak\",\n",
    "        \"number\" 80,\n",
    "        \"provinsi\" :\"Kab,sukabumi\"\n",
    "\n",
    "}\n",
    "}\n",
    "print(studentData)\n",
    "print(studentData[\"name\"])\n",
    "print(studentData[\"address\"] [\"province\"])\n",
    "\n"
   ]
  }
 ],
 "metadata": {
  "kernelspec": {
   "display_name": "anaconda-panel-2023.05-py310",
   "language": "python",
   "name": "conda-env-anaconda-panel-2023.05-py310-py"
  },
  "language_info": {
   "codemirror_mode": {
    "name": "ipython",
    "version": 3
   },
   "file_extension": ".py",
   "mimetype": "text/x-python",
   "name": "python",
   "nbconvert_exporter": "python",
   "pygments_lexer": "ipython3",
   "version": "3.11.5"
  }
 },
 "nbformat": 4,
 "nbformat_minor": 5
}
